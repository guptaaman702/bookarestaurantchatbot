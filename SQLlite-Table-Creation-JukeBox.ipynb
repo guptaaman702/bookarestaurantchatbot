{
 "cells": [
  {
   "cell_type": "code",
   "execution_count": 4,
   "metadata": {},
   "outputs": [
    {
     "name": "stdout",
     "output_type": "stream",
     "text": [
      "Opened database successfully\n"
     ]
    }
   ],
   "source": [
    "import sqlite3\n",
    "\n",
    "conn = sqlite3.connect('jukebox.db')\n",
    "print(\"Opened database successfully\");"
   ]
  },
  {
   "cell_type": "code",
   "execution_count": 17,
   "metadata": {},
   "outputs": [
    {
     "data": {
      "text/plain": [
       "<sqlite3.Cursor at 0x27b3ea0>"
      ]
     },
     "execution_count": 17,
     "metadata": {},
     "output_type": "execute_result"
    }
   ],
   "source": [
    "conn.execute('''DROP TABLE SONGSPLAYERJUKEBOX''')"
   ]
  },
  {
   "cell_type": "code",
   "execution_count": 5,
   "metadata": {},
   "outputs": [
    {
     "ename": "OperationalError",
     "evalue": "table SONGSPLAYERJUKEBOX already exists",
     "output_type": "error",
     "traceback": [
      "\u001b[1;31m---------------------------------------------------------------------------\u001b[0m",
      "\u001b[1;31mOperationalError\u001b[0m                          Traceback (most recent call last)",
      "\u001b[1;32m<ipython-input-5-de6ed722cbcc>\u001b[0m in \u001b[0;36m<module>\u001b[1;34m()\u001b[0m\n\u001b[0;32m      7\u001b[0m   \u001b[1;33m,\u001b[0m\u001b[0mStyle\u001b[0m  \u001b[0mVARCHAR\u001b[0m\u001b[1;33m(\u001b[0m\u001b[1;36m14\u001b[0m\u001b[1;33m)\u001b[0m \u001b[0mNOT\u001b[0m \u001b[0mNULL\u001b[0m\u001b[1;33m\u001b[0m\u001b[0m\n\u001b[0;32m      8\u001b[0m   \u001b[1;33m,\u001b[0m\u001b[0mSong\u001b[0m   \u001b[0mVARCHAR\u001b[0m\u001b[1;33m(\u001b[0m\u001b[1;36m31\u001b[0m\u001b[1;33m)\u001b[0m \u001b[0mNOT\u001b[0m \u001b[0mNULL\u001b[0m\u001b[1;33m\u001b[0m\u001b[0m\n\u001b[1;32m----> 9\u001b[1;33m );''');\n\u001b[0m\u001b[0;32m     10\u001b[0m \u001b[0mprint\u001b[0m\u001b[1;33m(\u001b[0m\u001b[1;34m\"SONGSPLAYERJUKEBOX Table created successfully\"\u001b[0m\u001b[1;33m)\u001b[0m\u001b[1;33m;\u001b[0m\u001b[1;33m\u001b[0m\u001b[0m\n\u001b[0;32m     11\u001b[0m \u001b[0mconn\u001b[0m\u001b[1;33m.\u001b[0m\u001b[0mclose\u001b[0m\u001b[1;33m(\u001b[0m\u001b[1;33m)\u001b[0m\u001b[1;33m\u001b[0m\u001b[0m\n",
      "\u001b[1;31mOperationalError\u001b[0m: table SONGSPLAYERJUKEBOX already exists"
     ]
    }
   ],
   "source": [
    "'''Create the table'''\n",
    "conn.execute('''CREATE TABLE SONGSPLAYERJUKEBOX(\n",
    "   ID INTEGER PRIMARY KEY AUTOINCREMENT\n",
    "  ,Artist VARCHAR(21) NOT NULL\n",
    "  ,Genre  VARCHAR(39) NOT NULL\n",
    "  ,Album  VARCHAR(36) NOT NULL\n",
    "  ,Style  VARCHAR(14) NOT NULL\n",
    "  ,Song   VARCHAR(31) NOT NULL\n",
    ");''');\n",
    "print(\"SONGSPLAYERJUKEBOX Table created successfully\");\n",
    "conn.close()"
   ]
  },
  {
   "cell_type": "code",
   "execution_count": 6,
   "metadata": {},
   "outputs": [
    {
     "name": "stdout",
     "output_type": "stream",
     "text": [
      "Jukebox Records inserted successfully\n"
     ]
    }
   ],
   "source": [
    "conn = sqlite3.connect('jukebox.db')\n",
    "\n",
    "conn.execute(\"INSERT INTO SONGSPLAYERJUKEBOX(Artist,Genre,Album,Style,Song) VALUES ('Box Tops','classic pop and rock','Dimensions','blue-eyed soul','Soul Deep')\");\n",
    "conn.execute(\"INSERT INTO SONGSPLAYERJUKEBOX(Artist,Genre,Album,Style,Song) VALUES ('Adam Ant','uk','Friend Or Foe','pop rock','Something Girls')\");\n",
    "conn.execute(\"INSERT INTO SONGSPLAYERJUKEBOX(Artist,Genre,Album,Style,Song) VALUES ('Lionel Richie','soul and reggae','Dancing On  Ceiling','quiet storm','Tonight Will Be Alright')\");\n",
    "conn.execute(\"INSERT INTO SONGSPLAYERJUKEBOX(Artist,Genre,Album,Style,Song) VALUES ('Blue Rodeo','canadian','Outskirts','country rock','Floating')\");\n",
    "conn.execute(\"INSERT INTO SONGSPLAYERJUKEBOX(Artist,Genre,Album,Style,Song) VALUES ('Dillinger Escape Plan','rock and indie','Miss Machine','math-core','Setting Fire to Sleeping Giants')\");\n",
    "conn.execute(\"INSERT INTO SONGSPLAYERJUKEBOX(Artist,Genre,Album,Style,Song) VALUES ('Terry Callier','classic pop and rock','Occasional Rain','soul jazz','Do You Finally Need A Friend')\");\n",
    "conn.execute(\"INSERT INTO SONGSPLAYERJUKEBOX(Artist,Genre,Album,Style,Song) VALUES ('Butthole Surfers','texas','Piouhgd + Widowermaker','noise rock','Barking Dogs (From Piouhgd)')\");\n",
    "conn.execute(\"INSERT INTO SONGSPLAYERJUKEBOX(Artist,Genre,Album,Style,Song) VALUES ('Jacob Young','jazz and blues','Pieces Of Time','cool jazz','In A Subtle Way')\");\n",
    "conn.execute(\"INSERT INTO SONGSPLAYERJUKEBOX(Artist,Genre,Album,Style,Song) VALUES ('Rolling Stones','british','Jump Back -  Best Of  Rolling Stones','blues','Angie (1993 Digital Remaster)')\");\n",
    "conn.execute(\"INSERT INTO SONGSPLAYERJUKEBOX(Artist,Genre,Album,Style,Song) VALUES ('Loudon Wainwright III','easy listening soundtracks and musicals','Grown Man','modern rock','Human Cannonball')\");\n",
    "\n",
    "conn.commit()\n",
    "print(\"Jukebox Records inserted successfully\");\n",
    "conn.close()"
   ]
  },
  {
   "cell_type": "code",
   "execution_count": null,
   "metadata": {
    "collapsed": true
   },
   "outputs": [],
   "source": []
  }
 ],
 "metadata": {
  "kernelspec": {
   "display_name": "Python 3",
   "language": "python",
   "name": "python3"
  },
  "language_info": {
   "codemirror_mode": {
    "name": "ipython",
    "version": 3
   },
   "file_extension": ".py",
   "mimetype": "text/x-python",
   "name": "python",
   "nbconvert_exporter": "python",
   "pygments_lexer": "ipython3",
   "version": "3.7.0"
  }
 },
 "nbformat": 4,
 "nbformat_minor": 2
}
